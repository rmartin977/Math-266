{
 "cells": [
  {
   "cell_type": "markdown",
   "id": "fcd8770b-ced0-4620-82bc-1c662c075aaf",
   "metadata": {},
   "source": [
    "# Math 266 Python Exercise 1. Matrices"
   ]
  },
  {
   "cell_type": "markdown",
   "id": "25e6dab7-01d3-4ddb-90c6-da7d27e291f9",
   "metadata": {},
   "source": [
    "You are currently viewing a Jupyter notebook. Recall that a notebook contains text and code cells. This is a text cell. To execute or \"run\" a cell you can hover your mouse over the cell and press the run arrow on the left side of the cell or press shift enter."
   ]
  },
  {
   "cell_type": "markdown",
   "id": "feb90558-e120-4fe3-9b98-d1f3ebf164f9",
   "metadata": {},
   "source": [
    "When you exit Google Colab this notebook will not persist on your G drive.  So you need to save a copy in your Google Drive. To do this click the file tab above and select \"save a copy in drive\".  Once you have done this you can exit and then return, reload and edit the notebook further if you like."
   ]
  },
  {
   "cell_type": "markdown",
   "id": "a53b53b9-6123-46f9-87c2-5177debec3b3",
   "metadata": {},
   "source": [
    "Execute the following cell to load necessary modules"
   ]
  },
  {
   "cell_type": "code",
   "execution_count": 61,
   "id": "e791c658-5e3c-41da-92f2-371c880d9c33",
   "metadata": {},
   "outputs": [
    {
     "name": "stdout",
     "output_type": "stream",
     "text": [
      "Requirement already satisfied: wget in /opt/anaconda3/lib/python3.7/site-packages (3.2)\n"
     ]
    }
   ],
   "source": [
    "! pip install wget\n",
    "import numpy as np\n",
    "import wget\n",
    "import pandas as pd\n"
   ]
  },
  {
   "cell_type": "markdown",
   "id": "f692d92b-8855-407b-9849-7977b50504b0",
   "metadata": {},
   "source": [
    "## Create a matrix using numpy\n",
    "\n",
    "To create the matrix:  \n",
    "\n",
    "$ \\begin{bmatrix}1 & 2 \\\\3 & 4 \\end{bmatrix} $\n",
    "\n",
    " we issue the following command.\n",
    "```Python\n",
    "\n",
    "mat = np.array([[1,2],[3,4]])\n",
    "\n",
    "```\n",
    "\n",
    "Execute the cell below that creates a 2X2 matrix and display it.  Try experimenting and  changing values in the matrix and rerun the cell."
   ]
  },
  {
   "cell_type": "code",
   "execution_count": 5,
   "id": "a9c6f243-dad4-4888-96ac-c55f9f09fbab",
   "metadata": {},
   "outputs": [
    {
     "name": "stdout",
     "output_type": "stream",
     "text": [
      "[[1 2]\n",
      " [3 4]]\n"
     ]
    }
   ],
   "source": [
    "mat = np.array([[1,2],[3,4]])\n",
    "print(mat)"
   ]
  },
  {
   "cell_type": "code",
   "execution_count": 8,
   "id": "8277e809-8060-4b25-b811-f1b0a743d17f",
   "metadata": {},
   "outputs": [
    {
     "data": {
      "text/plain": [
       "(2, 2)"
      ]
     },
     "execution_count": 8,
     "metadata": {},
     "output_type": "execute_result"
    }
   ],
   "source": [
    "mat.shape # this tells us the size or \"shape\" of the matrix"
   ]
  },
  {
   "cell_type": "code",
   "execution_count": 9,
   "id": "7a522a97-c16c-4752-92f0-835aec7a9b85",
   "metadata": {},
   "outputs": [
    {
     "data": {
      "text/plain": [
       "array([[ 3,  6],\n",
       "       [ 9, 12]])"
      ]
     },
     "execution_count": 9,
     "metadata": {},
     "output_type": "execute_result"
    }
   ],
   "source": [
    "3*mat # this command returns a scalar multiple of the matrix"
   ]
  },
  {
   "cell_type": "code",
   "execution_count": 10,
   "id": "05ed57b0-b0d2-4132-a807-7bf44d60ea42",
   "metadata": {},
   "outputs": [
    {
     "name": "stdout",
     "output_type": "stream",
     "text": [
      "[[1 2]\n",
      " [3 4]]\n"
     ]
    }
   ],
   "source": [
    "print(mat) # note that the original matrix is not changed"
   ]
  },
  {
   "cell_type": "code",
   "execution_count": 11,
   "id": "f8469e20-b860-4726-a769-f786134bc98d",
   "metadata": {},
   "outputs": [
    {
     "name": "stdout",
     "output_type": "stream",
     "text": [
      "[[ 3  6]\n",
      " [ 9 12]]\n"
     ]
    }
   ],
   "source": [
    "mat = 3 * mat # this command will change the original matix\n",
    "print(mat)"
   ]
  },
  {
   "cell_type": "code",
   "execution_count": 13,
   "id": "6599ff3c-63f0-413c-97cc-b8803dac99fe",
   "metadata": {},
   "outputs": [
    {
     "data": {
      "text/plain": [
       "array([[ 1,  2,  3,  4,  5],\n",
       "       [ 6,  7,  8,  9, 10],\n",
       "       [11, 12, 13, 14, 15],\n",
       "       [16, 17, 18, 19, 20],\n",
       "       [21, 22, 23, 24, 25]])"
      ]
     },
     "execution_count": 13,
     "metadata": {},
     "output_type": "execute_result"
    }
   ],
   "source": [
    "new_mat = np.arange(1,26).reshape(5,5)  # here we create a new 5X5 matrix\n",
    "new_mat"
   ]
  },
  {
   "cell_type": "code",
   "execution_count": 55,
   "id": "63fc4b97-601a-4763-afde-46669c45e91d",
   "metadata": {},
   "outputs": [
    {
     "data": {
      "text/html": [
       "<div>\n",
       "<style scoped>\n",
       "    .dataframe tbody tr th:only-of-type {\n",
       "        vertical-align: middle;\n",
       "    }\n",
       "\n",
       "    .dataframe tbody tr th {\n",
       "        vertical-align: top;\n",
       "    }\n",
       "\n",
       "    .dataframe thead th {\n",
       "        text-align: right;\n",
       "    }\n",
       "</style>\n",
       "<table border=\"1\" class=\"dataframe\">\n",
       "  <thead>\n",
       "    <tr style=\"text-align: right;\">\n",
       "      <th></th>\n",
       "      <th>0</th>\n",
       "      <th>1</th>\n",
       "      <th>2</th>\n",
       "      <th>3</th>\n",
       "      <th>4</th>\n",
       "    </tr>\n",
       "  </thead>\n",
       "  <tbody>\n",
       "    <tr>\n",
       "      <th>0</th>\n",
       "      <td>1</td>\n",
       "      <td>2</td>\n",
       "      <td>3</td>\n",
       "      <td>4</td>\n",
       "      <td>5</td>\n",
       "    </tr>\n",
       "    <tr>\n",
       "      <th>1</th>\n",
       "      <td>6</td>\n",
       "      <td>7</td>\n",
       "      <td>8</td>\n",
       "      <td>9</td>\n",
       "      <td>10</td>\n",
       "    </tr>\n",
       "    <tr>\n",
       "      <th>2</th>\n",
       "      <td>11</td>\n",
       "      <td>12</td>\n",
       "      <td>13</td>\n",
       "      <td>14</td>\n",
       "      <td>15</td>\n",
       "    </tr>\n",
       "    <tr>\n",
       "      <th>3</th>\n",
       "      <td>16</td>\n",
       "      <td>17</td>\n",
       "      <td>18</td>\n",
       "      <td>19</td>\n",
       "      <td>20</td>\n",
       "    </tr>\n",
       "    <tr>\n",
       "      <th>4</th>\n",
       "      <td>21</td>\n",
       "      <td>22</td>\n",
       "      <td>23</td>\n",
       "      <td>24</td>\n",
       "      <td>25</td>\n",
       "    </tr>\n",
       "  </tbody>\n",
       "</table>\n",
       "</div>"
      ],
      "text/plain": [
       "    0   1   2   3   4\n",
       "0   1   2   3   4   5\n",
       "1   6   7   8   9  10\n",
       "2  11  12  13  14  15\n",
       "3  16  17  18  19  20\n",
       "4  21  22  23  24  25"
      ]
     },
     "execution_count": 55,
     "metadata": {},
     "output_type": "execute_result"
    }
   ],
   "source": [
    "df = pd.DataFrame(new_mat) # below we see the same matrix with rows and columns labeled in bold.\n",
    "df"
   ]
  },
  {
   "cell_type": "markdown",
   "id": "a9275966-2fd2-421a-8815-f9018e529495",
   "metadata": {},
   "source": [
    "## Matrix indexing\n",
    "In the above display we see python index values start at zero. To access the (i,j) entry the matrix call mat you enter:\n",
    "```python\n",
    "mat[i,j]\n",
    "\n",
    "```\n",
    "Again be aware that Python uses zero based indexing.  For example to access the entry in the first row and column of new_mat.  We issue the command below.  Experiment and change i,j values and rerun the cell and compare your results with the matrix above.\n"
   ]
  },
  {
   "cell_type": "code",
   "execution_count": 14,
   "id": "e442ea42-b663-4165-8a71-a3b2a7e47d5a",
   "metadata": {},
   "outputs": [
    {
     "data": {
      "text/plain": [
       "1"
      ]
     },
     "execution_count": 14,
     "metadata": {},
     "output_type": "execute_result"
    }
   ],
   "source": [
    "new_mat[0,0]"
   ]
  },
  {
   "cell_type": "code",
   "execution_count": 15,
   "id": "edf03e20-76dd-4585-a992-806e34bb990e",
   "metadata": {},
   "outputs": [
    {
     "data": {
      "text/plain": [
       "array([ 6,  7,  8,  9, 10])"
      ]
     },
     "execution_count": 15,
     "metadata": {},
     "output_type": "execute_result"
    }
   ],
   "source": [
    "new_mat[1] # this returns the entire second row ~ experiment!"
   ]
  },
  {
   "cell_type": "code",
   "execution_count": 16,
   "id": "184018ad-1d51-4f83-9034-a60ad19a2506",
   "metadata": {},
   "outputs": [
    {
     "data": {
      "text/plain": [
       "array([ 2,  7, 12, 17, 22])"
      ]
     },
     "execution_count": 16,
     "metadata": {},
     "output_type": "execute_result"
    }
   ],
   "source": [
    "new_mat[:,1] # this returns an entire column. However notice a column vector is not returned, just an array.\n"
   ]
  },
  {
   "cell_type": "code",
   "execution_count": 17,
   "id": "9c06224a-f947-49e3-bae7-7c650406e753",
   "metadata": {},
   "outputs": [
    {
     "data": {
      "text/plain": [
       "array([[ 2],\n",
       "       [ 7],\n",
       "       [12],\n",
       "       [17],\n",
       "       [22]])"
      ]
     },
     "execution_count": 17,
     "metadata": {},
     "output_type": "execute_result"
    }
   ],
   "source": [
    "new_mat[:,1].reshape(5,1) # here we convert the array to a column\n"
   ]
  },
  {
   "cell_type": "code",
   "execution_count": 20,
   "id": "fb460714-6663-4045-9514-2a872b8a6f5f",
   "metadata": {},
   "outputs": [
    {
     "data": {
      "text/plain": [
       "array([55, 60, 65, 70, 75])"
      ]
     },
     "execution_count": 20,
     "metadata": {},
     "output_type": "execute_result"
    }
   ],
   "source": [
    "new_mat.sum(axis=0) # returns the sum of all the columns (axis = 0)"
   ]
  },
  {
   "cell_type": "code",
   "execution_count": 21,
   "id": "7f60e6bf-09fb-4eec-ae0f-a3113c850427",
   "metadata": {},
   "outputs": [
    {
     "data": {
      "text/plain": [
       "array([ 15,  40,  65,  90, 115])"
      ]
     },
     "execution_count": 21,
     "metadata": {},
     "output_type": "execute_result"
    }
   ],
   "source": [
    "new_mat.sum(axis=1) # returns the sum of all the rows (axis = 1), confirm the sum of elements in the first row is 15"
   ]
  },
  {
   "cell_type": "markdown",
   "id": "cc52c8eb-defc-4c1f-9cfc-2c4ee2c448e4",
   "metadata": {},
   "source": [
    "<h1 style=\"color red; > Matrix Applications </h1>"
   ]
  },
  {
   "cell_type": "markdown",
   "id": "32d60438-e470-452f-8bf2-d715da3b81a7",
   "metadata": {},
   "source": [
    "## Matrix Applications\n",
    "    \n",
    "    In our first application we will investigate the use of a matrix to store movie ratings data.  In the image below we see a matrix of ratings for movies.  The rows correspond to movies and the columns to users. In the image below we see a partial display of a ratings matrix. Note that User-0 gave movie-0 a rating of 5.  A zero indicates that the user did not rate the movie. For example User-1 did not rate Movies 1-8."
   ]
  },
  {
   "cell_type": "markdown",
   "id": "2485113d-4468-475e-8371-41f955a2c6ba",
   "metadata": {},
   "source": [
    "![ratings](https://github.com/rmartin977/Math-266/blob/main/ratings_matrix.png?raw=1)"
   ]
  },
  {
   "cell_type": "markdown",
   "id": "fb7aec1e-67d2-47b5-9323-de66a1322a3f",
   "metadata": {},
   "source": [
    "Execute the following cell to load the ratings matrix that we will be working with in this exercise."
   ]
  },
  {
   "cell_type": "code",
   "execution_count": 31,
   "id": "a15d38e4-51fd-41f3-87f6-ac86565ff121",
   "metadata": {},
   "outputs": [],
   "source": [
    "file_1 = wget.download(\"https://github.com/rmartin977/Math-266/blob/main/ratings_matrix.npy?raw=true\")\n",
    "ratings = np.load(file_1)"
   ]
  },
  {
   "cell_type": "code",
   "execution_count": 33,
   "id": "2a57fd6c-cfed-4a4e-8fbf-b702c8eb0ce4",
   "metadata": {},
   "outputs": [
    {
     "data": {
      "text/plain": [
       "(1682, 943)"
      ]
     },
     "execution_count": 33,
     "metadata": {},
     "output_type": "execute_result"
    }
   ],
   "source": [
    "ratings.shape  # notice there are 1682 movies and 943 users"
   ]
  },
  {
   "cell_type": "code",
   "execution_count": 63,
   "id": "593f9a72-6b15-48ca-8bf4-a804afef0840",
   "metadata": {},
   "outputs": [
    {
     "data": {
      "text/html": [
       "<div>\n",
       "<style scoped>\n",
       "    .dataframe tbody tr th:only-of-type {\n",
       "        vertical-align: middle;\n",
       "    }\n",
       "\n",
       "    .dataframe tbody tr th {\n",
       "        vertical-align: top;\n",
       "    }\n",
       "\n",
       "    .dataframe thead th {\n",
       "        text-align: right;\n",
       "    }\n",
       "</style>\n",
       "<table border=\"1\" class=\"dataframe\">\n",
       "  <thead>\n",
       "    <tr style=\"text-align: right;\">\n",
       "      <th></th>\n",
       "      <th>0</th>\n",
       "      <th>1</th>\n",
       "      <th>2</th>\n",
       "      <th>3</th>\n",
       "      <th>4</th>\n",
       "      <th>5</th>\n",
       "      <th>6</th>\n",
       "      <th>7</th>\n",
       "      <th>8</th>\n",
       "      <th>9</th>\n",
       "      <th>10</th>\n",
       "      <th>11</th>\n",
       "      <th>12</th>\n",
       "      <th>13</th>\n",
       "      <th>14</th>\n",
       "    </tr>\n",
       "  </thead>\n",
       "  <tbody>\n",
       "    <tr>\n",
       "      <th>0</th>\n",
       "      <td>5</td>\n",
       "      <td>4</td>\n",
       "      <td>0</td>\n",
       "      <td>0</td>\n",
       "      <td>4</td>\n",
       "      <td>4</td>\n",
       "      <td>0</td>\n",
       "      <td>0</td>\n",
       "      <td>0</td>\n",
       "      <td>4</td>\n",
       "      <td>0</td>\n",
       "      <td>0</td>\n",
       "      <td>3</td>\n",
       "      <td>0</td>\n",
       "      <td>1</td>\n",
       "    </tr>\n",
       "    <tr>\n",
       "      <th>1</th>\n",
       "      <td>3</td>\n",
       "      <td>0</td>\n",
       "      <td>0</td>\n",
       "      <td>0</td>\n",
       "      <td>3</td>\n",
       "      <td>0</td>\n",
       "      <td>0</td>\n",
       "      <td>0</td>\n",
       "      <td>0</td>\n",
       "      <td>0</td>\n",
       "      <td>0</td>\n",
       "      <td>0</td>\n",
       "      <td>3</td>\n",
       "      <td>0</td>\n",
       "      <td>0</td>\n",
       "    </tr>\n",
       "    <tr>\n",
       "      <th>2</th>\n",
       "      <td>4</td>\n",
       "      <td>0</td>\n",
       "      <td>0</td>\n",
       "      <td>0</td>\n",
       "      <td>0</td>\n",
       "      <td>0</td>\n",
       "      <td>0</td>\n",
       "      <td>0</td>\n",
       "      <td>0</td>\n",
       "      <td>0</td>\n",
       "      <td>0</td>\n",
       "      <td>0</td>\n",
       "      <td>0</td>\n",
       "      <td>0</td>\n",
       "      <td>0</td>\n",
       "    </tr>\n",
       "    <tr>\n",
       "      <th>3</th>\n",
       "      <td>3</td>\n",
       "      <td>0</td>\n",
       "      <td>0</td>\n",
       "      <td>0</td>\n",
       "      <td>0</td>\n",
       "      <td>0</td>\n",
       "      <td>5</td>\n",
       "      <td>0</td>\n",
       "      <td>0</td>\n",
       "      <td>4</td>\n",
       "      <td>0</td>\n",
       "      <td>5</td>\n",
       "      <td>5</td>\n",
       "      <td>0</td>\n",
       "      <td>0</td>\n",
       "    </tr>\n",
       "    <tr>\n",
       "      <th>4</th>\n",
       "      <td>3</td>\n",
       "      <td>0</td>\n",
       "      <td>0</td>\n",
       "      <td>0</td>\n",
       "      <td>0</td>\n",
       "      <td>0</td>\n",
       "      <td>0</td>\n",
       "      <td>0</td>\n",
       "      <td>0</td>\n",
       "      <td>0</td>\n",
       "      <td>0</td>\n",
       "      <td>0</td>\n",
       "      <td>1</td>\n",
       "      <td>0</td>\n",
       "      <td>0</td>\n",
       "    </tr>\n",
       "  </tbody>\n",
       "</table>\n",
       "</div>"
      ],
      "text/plain": [
       "   0   1   2   3   4   5   6   7   8   9   10  11  12  13  14\n",
       "0   5   4   0   0   4   4   0   0   0   4   0   0   3   0   1\n",
       "1   3   0   0   0   3   0   0   0   0   0   0   0   3   0   0\n",
       "2   4   0   0   0   0   0   0   0   0   0   0   0   0   0   0\n",
       "3   3   0   0   0   0   0   5   0   0   4   0   5   5   0   0\n",
       "4   3   0   0   0   0   0   0   0   0   0   0   0   1   0   0"
      ]
     },
     "execution_count": 63,
     "metadata": {},
     "output_type": "execute_result"
    }
   ],
   "source": [
    "rdf = pd.DataFrame(ratings) # below we get a view the first 5 rows and 15 columns of our ratings matrix. It is not necessary to understand the code that generates  this output.\n",
    "rdf.iloc[:5,:15] # User ID-12 gave Movie ID-4 1 star."
   ]
  },
  {
   "cell_type": "markdown",
   "id": "22633b9a-48e5-4494-b0fa-bcf28f265bef",
   "metadata": {},
   "source": [
    "To convert movie ID's to titles we need to download a python dictionary.  Execute the following cell."
   ]
  },
  {
   "cell_type": "code",
   "execution_count": 64,
   "id": "e7928dcc-4ee9-4c01-8a1f-dd4b488a5613",
   "metadata": {},
   "outputs": [],
   "source": [
    "file_2 = wget.download(\"https://github.com/rmartin977/Math-266/blob/main/dictionary.npy?raw=true\")"
   ]
  },
  {
   "cell_type": "code",
   "execution_count": 65,
   "id": "c4736c18-b47b-48ab-8935-5936e850f2fe",
   "metadata": {},
   "outputs": [],
   "source": [
    "titles = np.load(file_2,allow_pickle=True).item()"
   ]
  },
  {
   "cell_type": "markdown",
   "id": "4b8d6787-ce02-459c-8451-30ffd57e23f8",
   "metadata": {},
   "source": [
    "## To determine the title for a given Movie ID just enter titles[ID].  "
   ]
  },
  {
   "cell_type": "code",
   "execution_count": 41,
   "id": "425175df-481c-4f18-a717-d4a8f3f62f53",
   "metadata": {},
   "outputs": [
    {
     "data": {
      "text/plain": [
       "'Toy Story (1995)'"
      ]
     },
     "execution_count": 41,
     "metadata": {},
     "output_type": "execute_result"
    }
   ],
   "source": [
    "titles[0]# Note the ID-0 corresponds to \"Toy Story\""
   ]
  },
  {
   "cell_type": "markdown",
   "id": "45ad8ee4-3196-4ca3-aec7-a29e5f7650ee",
   "metadata": {},
   "source": [
    "How to find a rating.  To see what rating with a given user gave a given movie just enter:  ratings(movie_id,user_id)"
   ]
  },
  {
   "cell_type": "code",
   "execution_count": 43,
   "id": "c67aae40-9bb6-4e50-ba90-22c79d7b4037",
   "metadata": {},
   "outputs": [
    {
     "data": {
      "text/plain": [
       "4"
      ]
     },
     "execution_count": 43,
     "metadata": {},
     "output_type": "execute_result"
    }
   ],
   "source": [
    "ratings[22,0] # Note that user #22 gave 'Toy Story' 4 stars."
   ]
  },
  {
   "cell_type": "markdown",
   "id": "662d269a-3c4c-4fd1-ad4d-99fbc2675ccc",
   "metadata": {},
   "source": [
    "Suppose we want to know what movie got the largest overall score.  That is, we total the ratings for each movie and determine which one got the largest result.  To do this we simply sum all the rows and find the largest outcome."
   ]
  },
  {
   "cell_type": "code",
   "execution_count": 46,
   "id": "805dba98-2983-4407-a4f4-ffa8b7fbadc2",
   "metadata": {},
   "outputs": [
    {
     "data": {
      "text/plain": [
       "(1682,)"
      ]
     },
     "execution_count": 46,
     "metadata": {},
     "output_type": "execute_result"
    }
   ],
   "source": [
    "scores = ratings.sum(axis=1) # scores is an array of scores for each row\n",
    "scores.shape # the size of array is the number of movies  1682"
   ]
  },
  {
   "cell_type": "code",
   "execution_count": 47,
   "id": "0a70acdf-bf45-4cdb-a693-b4d78a3c9823",
   "metadata": {},
   "outputs": [
    {
     "data": {
      "text/plain": [
       "array([1753,  420,  273,  742,  284,   93, 1489,  875, 1165,  341],\n",
       "      dtype=uint64)"
      ]
     },
     "execution_count": 47,
     "metadata": {},
     "output_type": "execute_result"
    }
   ],
   "source": [
    "scores[:10] # this displays the first 10 scores, notice movie ID-1 got a score of 420."
   ]
  },
  {
   "cell_type": "code",
   "execution_count": 66,
   "id": "f06fb67e-8e59-4e60-b2a4-d4cc51619f09",
   "metadata": {},
   "outputs": [
    {
     "data": {
      "text/plain": [
       "2541"
      ]
     },
     "execution_count": 66,
     "metadata": {},
     "output_type": "execute_result"
    }
   ],
   "source": [
    "scores.max() # this tells us the largest value in the scores array is 2541.  But what movie does this correspond to? We use argmax function."
   ]
  },
  {
   "cell_type": "markdown",
   "id": "cbada7f8-b8a6-4f66-9998-bbe25b53139e",
   "metadata": {},
   "source": [
    "The max function returs the maximum value in an array.  The argmax function will return the index or postion in the array where the maxmum occurs. Notice below \n",
    "the maximum in scores occurs at index value 49."
   ]
  },
  {
   "cell_type": "code",
   "execution_count": 49,
   "id": "dcb37705-d6a8-432c-9d9a-3a9944363466",
   "metadata": {},
   "outputs": [
    {
     "data": {
      "text/plain": [
       "49"
      ]
     },
     "execution_count": 49,
     "metadata": {},
     "output_type": "execute_result"
    }
   ],
   "source": [
    "np.argmax(scores) # movie ID-49 go the largest score"
   ]
  },
  {
   "cell_type": "code",
   "execution_count": 50,
   "id": "d36fb69f-84cd-4b80-a610-6f00abaadb5b",
   "metadata": {},
   "outputs": [
    {
     "data": {
      "text/plain": [
       "2541"
      ]
     },
     "execution_count": 50,
     "metadata": {},
     "output_type": "execute_result"
    }
   ],
   "source": [
    "scores[49] # Yep ID-49 got 2541 stars"
   ]
  },
  {
   "cell_type": "code",
   "execution_count": 51,
   "id": "4d5d4744-0daa-42de-b803-4876bc99785c",
   "metadata": {},
   "outputs": [
    {
     "data": {
      "text/plain": [
       "'Star Wars (1977)'"
      ]
     },
     "execution_count": 51,
     "metadata": {},
     "output_type": "execute_result"
    }
   ],
   "source": [
    "#and the winner is:\n",
    "titles[49]"
   ]
  },
  {
   "cell_type": "markdown",
   "id": "e01acdec-0b53-4a7e-b87c-ced9cb05cdf6",
   "metadata": {},
   "source": [
    "This is just the beginning of our exploring the ratings matrix.  Much more later but enough for now."
   ]
  },
  {
   "cell_type": "markdown",
   "id": "687be57d-f3ed-4d53-aa2e-5b3b17fa984e",
   "metadata": {},
   "source": [
    "## Your turn...\n",
    "Answer the following 5 questions.  Go to gradescope python exericse 1. and enter your answers\n",
    "\n",
    "1. What rating did user 22 give to the movie 'Toy Story\"?\n",
    "2. What is the title of the movie with ID-22?\n",
    "3. What is total score for movie ID-22?\n",
    "4. What user awarded the most points or stars?\n",
    "5. What movie comes in second place in terms of largest overall score.  Hint: look at np.argsort.  To get help on a command type np.argsort? in command cell and execute."
   ]
  }
 ],
 "metadata": {
  "kernelspec": {
   "display_name": "Python 3",
   "language": "python",
   "name": "python3"
  },
  "language_info": {
   "codemirror_mode": {
    "name": "ipython",
    "version": 3
   },
   "file_extension": ".py",
   "mimetype": "text/x-python",
   "name": "python",
   "nbconvert_exporter": "python",
   "pygments_lexer": "ipython3",
   "version": "3.7.6"
  }
 },
 "nbformat": 4,
 "nbformat_minor": 5
}
