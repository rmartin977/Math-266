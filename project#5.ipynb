{
 "cells": [
  {
   "cell_type": "markdown",
   "id": "a07d11fa-87bb-426b-9465-76881f9dcf52",
   "metadata": {},
   "source": [
    "# Math 266 Python Project #5. Ordinary Least Squares"
   ]
  },
  {
   "cell_type": "markdown",
   "id": "85adec76-208a-4f3f-94d5-0c320558eeed",
   "metadata": {},
   "source": [
    "Simple linear regression involves finding a linear equation or linear regression model with a single independent variable and a single dependent variable. The parameters of the model are \"learned\" by using oberved data. Afterward the model can be used to predict outputs given new data. We will begin our activity by looking at examples of  ordinary linear regression."
   ]
  },
  {
   "cell_type": "markdown",
   "id": "8891ab67-05cf-4310-b5d6-bf424255cb06",
   "metadata": {
    "tags": []
   },
   "source": [
    "Instructions:  Read and execute the cells below and follow the instructions.\n",
    "\n",
    "Execute the cell below to load necessary modules"
   ]
  },
  {
   "cell_type": "code",
   "execution_count": 6,
   "id": "9b2f8e43-7519-4c92-937c-515b400f9620",
   "metadata": {
    "tags": []
   },
   "outputs": [
    {
     "name": "stdout",
     "output_type": "stream",
     "text": [
      "Requirement already satisfied: wget in /Users/rmartin/opt/anaconda3/lib/python3.9/site-packages (3.2)\n",
      "\u001b[33mWARNING: There was an error checking the latest version of pip.\u001b[0m\u001b[33m\n",
      "\u001b[0m"
     ]
    }
   ],
   "source": [
    "! pip install wget\n",
    "import numpy as np\n",
    "import numpy.linalg as la\n",
    "import wget\n",
    "import pandas as pd\n",
    "import matplotlib.pyplot as plt\n",
    "from numpy.linalg import norm\n",
    "import seaborn as sns\n",
    "sns.set()"
   ]
  },
  {
   "cell_type": "markdown",
   "id": "586766b3-19d0-4d66-bb9e-efd6637fae85",
   "metadata": {},
   "source": [
    "<h2><span style=\"color:blue\">Load the data for our first model. </span></h2>\n"
   ]
  },
  {
   "cell_type": "code",
   "execution_count": 7,
   "id": "ae686b78-1274-4369-a2f5-f0f3a9995533",
   "metadata": {
    "tags": []
   },
   "outputs": [
    {
     "name": "stdout",
     "output_type": "stream",
     "text": [
      "100% [..............................................................] 288 / 288"
     ]
    }
   ],
   "source": [
    "file = wget.download(\"https://github.com/rmartin977/Math-266/blob/main/data_1.npy?raw=true\")\n",
    "data_1 = np.load(file)"
   ]
  },
  {
   "cell_type": "markdown",
   "id": "f2a66a18-0927-4e22-b6f1-423c600f79aa",
   "metadata": {},
   "source": [
    "<h2><span style=\"color:blue\">View the data </span></h2>\n",
    "The data consist of 10 (x,y) pairs."
   ]
  },
  {
   "cell_type": "code",
   "execution_count": 8,
   "id": "41264837-d7de-4777-a058-fb7bc54fcc7c",
   "metadata": {},
   "outputs": [
    {
     "data": {
      "text/plain": [
       "array([[2.5, 3.4],\n",
       "       [0.5, 1.7],\n",
       "       [2.2, 3.9],\n",
       "       [1.9, 3.2],\n",
       "       [3.1, 4. ],\n",
       "       [2.3, 3.7],\n",
       "       [2. , 2.6],\n",
       "       [1. , 2.1],\n",
       "       [1.5, 2.6],\n",
       "       [1.1, 1.9]])"
      ]
     },
     "execution_count": 8,
     "metadata": {},
     "output_type": "execute_result"
    }
   ],
   "source": [
    "data_1"
   ]
  },
  {
   "cell_type": "markdown",
   "id": "fc63b4de-b4e6-4f56-83cc-21e33f89bd05",
   "metadata": {},
   "source": [
    "## Extract the x and y vectors from the data matrix and plot the data"
   ]
  },
  {
   "cell_type": "code",
   "execution_count": 9,
   "id": "799cdd6c-086a-4d26-b0ce-9c6eb9b1d956",
   "metadata": {},
   "outputs": [
    {
     "data": {
      "text/plain": [
       "Text(0, 0.5, 'y')"
      ]
     },
     "execution_count": 9,
     "metadata": {},
     "output_type": "execute_result"
    },
    {
     "data": {
      "image/png": "[encoded data removed]",
      "text/plain": [
       "<Figure size 432x288 with 1 Axes>"
      ]
     },
     "metadata": {},
     "output_type": "display_data"
    }
   ],
   "source": [
    "x = data_1[:,0]\n",
    "y = data_1[:,1]\n",
    "plt.scatter(x,y)\n",
    "plt.xlim([0,4])\n",
    "plt.ylim([0,5])\n",
    "plt.grid\n",
    "plt.xlabel(\"x\")\n",
    "plt.ylabel(\"y\")"
   ]
  },
  {
   "cell_type": "markdown",
   "id": "2d401eb4-170a-4591-84ba-089e3a1688cd",
   "metadata": {},
   "source": [
    "The linear regression model is shown below.  $X$ is the design matrix. The rows of $X$ are our inputs or \"feature vectors\". $\\vec{\\mathbf{\\beta}}$ is the parameter vector, what we are solving for. $\\vec{\\mathbf{y}}$ is the observation vector containing the labels for each input\n",
    "\n",
    "\\begin{align}\n",
    "X  \\vec{\\mathbf{\\beta}}  = \\vec{\\mathbf{y}}   \\\\  \n",
    "\\end{align}\n",
    "\n",
    "We will solve by using the standard normal equations used in least squares.\n",
    "\n",
    "\\begin{align}\n",
    "\\vec{\\mathbf{\\beta}}  =   (X^T X)^{-1} X^T  \\vec{\\mathbf{y}} \\\\   \n",
    "\\end{align}"
   ]
  },
  {
   "cell_type": "markdown",
   "id": "42dcf114-bf72-43e8-90fd-855a5c6d2c86",
   "metadata": {},
   "source": [
    "<h2><span style=\"color:blue\">Construct design matrix. </span></h2>\n"
   ]
  },
  {
   "cell_type": "code",
   "execution_count": 10,
   "id": "8aaaad80-bd33-4efa-b59e-9aeb4f18aa4d",
   "metadata": {},
   "outputs": [
    {
     "data": {
      "text/plain": [
       "array([[1. , 2.5],\n",
       "       [1. , 0.5],\n",
       "       [1. , 2.2],\n",
       "       [1. , 1.9],\n",
       "       [1. , 3.1],\n",
       "       [1. , 2.3],\n",
       "       [1. , 2. ],\n",
       "       [1. , 1. ],\n",
       "       [1. , 1.5],\n",
       "       [1. , 1.1]])"
      ]
     },
     "execution_count": 10,
     "metadata": {},
     "output_type": "execute_result"
    }
   ],
   "source": [
    "X = np.c_[np.ones_like(x),x]\n",
    "X"
   ]
  },
  {
   "cell_type": "markdown",
   "id": "9a083604-e7ed-43f1-a519-64283970bce4",
   "metadata": {},
   "source": [
    "<h2><span style=\"color:blue\">Solve system. </span></h2>\n"
   ]
  },
  {
   "cell_type": "code",
   "execution_count": 11,
   "id": "6fcc2f67-57e4-45e8-b06c-1614a41fb77f",
   "metadata": {},
   "outputs": [
    {
     "data": {
      "text/plain": [
       "array([1.10326185, 0.99819787])"
      ]
     },
     "execution_count": 11,
     "metadata": {},
     "output_type": "execute_result"
    }
   ],
   "source": [
    "beta_1 = la.inv(X.T@X)@X.T@y\n",
    "beta_1 # this vector holds the y-intercept and slope value for our model."
   ]
  },
  {
   "cell_type": "markdown",
   "id": "ba5d3fbf-7b38-4db5-8bd6-04cffb082b43",
   "metadata": {},
   "source": [
    "<h2><span style=\"color:blue\">Plot resulting least square line. </span></h2>\n"
   ]
  },
  {
   "cell_type": "code",
   "execution_count": 12,
   "id": "39ccf644-851b-4e81-976e-06493ed2b2b1",
   "metadata": {
    "tags": []
   },
   "outputs": [
    {
     "data": {
      "text/plain": [
       "[<matplotlib.lines.Line2D at 0x7f90e6462e80>]"
      ]
     },
     "execution_count": 12,
     "metadata": {},
     "output_type": "execute_result"
    },
    {
     "data": {
      "image/png": "[encoded data removed]",
      "text/plain": [
       "<Figure size 432x288 with 1 Axes>"
      ]
     },
     "metadata": {},
     "output_type": "display_data"
    }
   ],
   "source": [
    "x = data_1[:,0]\n",
    "y = data_1[:,1]\n",
    "plt.scatter(x,y)\n",
    "plt.xlim([0,4])\n",
    "plt.ylim([0,5])\n",
    "plt.grid\n",
    "plt.xlabel(\"x\")\n",
    "plt.ylabel(\"y\")\n",
    "\n",
    "plt.plot(x,beta_1[0] + beta_1[1]*x,c='red')"
   ]
  },
  {
   "cell_type": "markdown",
   "id": "cae5e0ea-0b58-4ce8-8b7f-c7907bfaee7f",
   "metadata": {},
   "source": [
    "## For an input of 3.0 the model predicts and output of 4.1.\n"
   ]
  },
  {
   "cell_type": "code",
   "execution_count": 13,
   "id": "a725257c-1db9-48e6-b344-39864dc22569",
   "metadata": {},
   "outputs": [
    {
     "data": {
      "text/plain": [
       "4.1"
      ]
     },
     "execution_count": 13,
     "metadata": {},
     "output_type": "execute_result"
    }
   ],
   "source": [
    "y_predict = beta_1[0] + beta_1[1]*3.0\n",
    "y_predict.round(2)"
   ]
  },
  {
   "cell_type": "markdown",
   "id": "e4992a24-3294-44fc-909a-bfaa7cfec856",
   "metadata": {},
   "source": [
    "<h2><span style=\"color:blue\">Load the data for our second model. </span></h2>\n"
   ]
  },
  {
   "cell_type": "code",
   "execution_count": 14,
   "id": "1b17a36d-fe50-4f80-b992-5bc6624a6306",
   "metadata": {
    "tags": []
   },
   "outputs": [
    {
     "name": "stdout",
     "output_type": "stream",
     "text": [
      "100% [..............................................................] 288 / 288"
     ]
    }
   ],
   "source": [
    "file2 = wget.download(\"https://github.com/rmartin977/Math-266/blob/main/data_2.npy?raw=true\")\n",
    "data_2 = np.load(file2)"
   ]
  },
  {
   "cell_type": "code",
   "execution_count": 15,
   "id": "17f30ae8-29ca-4cc4-926c-d752af214857",
   "metadata": {},
   "outputs": [
    {
     "data": {
      "text/plain": [
       "array([[2.5, 2.4],\n",
       "       [0.5, 0.7],\n",
       "       [2.2, 2.9],\n",
       "       [1.9, 2.2],\n",
       "       [3.1, 3. ],\n",
       "       [2.3, 2.7],\n",
       "       [2. , 1.6],\n",
       "       [1. , 1.1],\n",
       "       [1.5, 1.6],\n",
       "       [1.1, 0.9]])"
      ]
     },
     "execution_count": 15,
     "metadata": {},
     "output_type": "execute_result"
    }
   ],
   "source": [
    "data_2"
   ]
  },
  {
   "cell_type": "markdown",
   "id": "0c5c1672-21b3-464e-bddf-63ec8608bd2e",
   "metadata": {},
   "source": [
    "## Now build a linear model for this second data set by repeating the above steps.  No need to graph the data.  Use your model to predict the output when the input is 3.0."
   ]
  },
  {
   "cell_type": "code",
   "execution_count": 11,
   "id": "077f2459-4bf2-4d81-bc93-09489259b97e",
   "metadata": {},
   "outputs": [],
   "source": [
    "# your code here"
   ]
  },
  {
   "cell_type": "code",
   "execution_count": null,
   "id": "3f16f329-c099-4637-b9ab-c39596f9ba03",
   "metadata": {},
   "outputs": [],
   "source": []
  },
  {
   "cell_type": "code",
   "execution_count": null,
   "id": "5c946af1-4d23-4fcb-8487-fe7e7045b27e",
   "metadata": {},
   "outputs": [],
   "source": []
  },
  {
   "cell_type": "code",
   "execution_count": null,
   "id": "8270b7c2-71cd-441b-83d8-780c9d893c40",
   "metadata": {},
   "outputs": [],
   "source": []
  },
  {
   "cell_type": "markdown",
   "id": "63611fe2-348e-4f7a-93a3-5675061dbd5c",
   "metadata": {},
   "source": [
    "# Multiple Regression."
   ]
  },
  {
   "cell_type": "markdown",
   "id": "df5d0ec0-5568-463d-a277-23b8be7b6f96",
   "metadata": {
    "tags": []
   },
   "source": [
    "A multiple regression model is one that attempts to predict a dependent variable  based on the value of multiple independent variables. Below  you will predict the selling price of a house based on the number of bedrooms and square footage of the house. This is an example of two independent variables. "
   ]
  },
  {
   "cell_type": "markdown",
   "id": "1e0298f4-a16c-41a8-845e-e7a244647c5b",
   "metadata": {},
   "source": [
    "<h2><span style=\"color:blue\">Load the housing data. </span></h2>\n"
   ]
  },
  {
   "cell_type": "code",
   "execution_count": 8,
   "id": "981d696d-25d5-4c2a-a796-b0f7ef15a901",
   "metadata": {
    "tags": []
   },
   "outputs": [
    {
     "name": "stdout",
     "output_type": "stream",
     "text": [
      "100% [................................................................................] 1232 / 1232"
     ]
    }
   ],
   "source": [
    "file3 = wget.download(\"https://github.com/rmartin977/Math-266/blob/main/housing_data.npy?raw=true\")                  \n",
    "data_3 = np.load(file3)"
   ]
  },
  {
   "cell_type": "code",
   "execution_count": 9,
   "id": "17d69123-677d-42da-b6be-a99751560f7e",
   "metadata": {},
   "outputs": [
    {
     "data": {
      "text/plain": [
       "(46, 3)"
      ]
     },
     "execution_count": 9,
     "metadata": {},
     "output_type": "execute_result"
    }
   ],
   "source": [
    "data_3.shape  # there are 46 data points in this set"
   ]
  },
  {
   "cell_type": "code",
   "execution_count": 10,
   "id": "1253f757-4435-4196-97d3-15a0b2e6275a",
   "metadata": {},
   "outputs": [
    {
     "data": {
      "text/plain": [
       "array([[  1600,      3, 329900],\n",
       "       [  2400,      3, 369000],\n",
       "       [  1416,      2, 232000],\n",
       "       [  3000,      4, 539900],\n",
       "       [  1985,      4, 299900]])"
      ]
     },
     "execution_count": 10,
     "metadata": {},
     "output_type": "execute_result"
    }
   ],
   "source": [
    "data_3[:5] # view the first 5 rows"
   ]
  },
  {
   "cell_type": "markdown",
   "id": "5281df3f-a2ac-4572-8ead-399a73242284",
   "metadata": {},
   "source": [
    "## Above we see the first house is 1600 sqr ft., 3 bedrooms and sold for *$329,900.00*"
   ]
  },
  {
   "cell_type": "markdown",
   "id": "10359a14-4380-4a11-8b74-889b1b2d889b",
   "metadata": {},
   "source": [
    "The first house has a feature vector = $\\begin{bmatrix}1600  \\\\3  \\end{bmatrix}$. Our model has the form: $$y =\\beta_0 + \\beta_1x_1+\\beta_2x_2 $$  See chapter 5 in the text for reference.\n",
    "\n"
   ]
  },
  {
   "cell_type": "markdown",
   "id": "99f56ded-68cb-4ff3-820e-d77f1a6f3598",
   "metadata": {},
   "source": [
    "## Now follow the steps above to construct a model for this data. You need to:\n",
    "1. Construct design Matrix X.\n",
    "2. Use normal equations to solve for  the paramter vector $\\vec{\\mathbf{\\beta}} =\\begin{bmatrix}\\beta_0  \\\\ \\beta_1 \\\\ \\beta_2 \\end{bmatrix}$\n"
   ]
  },
  {
   "cell_type": "code",
   "execution_count": 15,
   "id": "2d301039-55d6-4209-8562-7c70d27a6204",
   "metadata": {},
   "outputs": [],
   "source": [
    "X = # enter necessary command to construct design design matrix\n",
    "y = # enter necessary command to extract the third column from data_3 matrix.  Note zero based indexing so it is column #2."
   ]
  },
  {
   "cell_type": "code",
   "execution_count": 3,
   "id": "a194361a-15e4-4eb6-8caa-529485ce6d7d",
   "metadata": {},
   "outputs": [],
   "source": [
    "beta_3 = # enter command to solve for parameter vector.  Note there are three entries in this vector\n"
   ]
  },
  {
   "cell_type": "markdown",
   "id": "2a90bbf5-b05a-4a1f-9081-20d0f35ad2d4",
   "metadata": {},
   "source": [
    "## Now use your mode to predict the price of a house with 3000 sq ft and 3 bedrooms. Record you answer.\n",
    " We give you the command below."
   ]
  },
  {
   "cell_type": "code",
   "execution_count": 5,
   "id": "7a3fc0d8-92b3-4285-83f8-86fc92ed6a0f",
   "metadata": {},
   "outputs": [],
   "source": [
    "y_predict=beta_3[0]+ beta_3[1]*3000 + beta_3[2]*3\n",
    "y_predict.round(2)"
   ]
  },
  {
   "cell_type": "markdown",
   "id": "b8540fd8-1f42-4c30-b972-495c842cdd02",
   "metadata": {},
   "source": [
    "## Your turn...\n",
    "Answer the following 4 questions.  Go to gradescope project #5 and enter your results.\n",
    "\n",
    "1. What output does the second model give with an input of 3.0?\n",
    "2. What price does you model  predict for a 3000 sqr ft house with 3 bedrooms.\n",
    "3. We note that each house has 2 features.  If we were going to build a model to predict digit values for mnist images\n",
    "   what size would the feature vector be?"
   ]
  },
  {
   "cell_type": "code",
   "execution_count": null,
   "id": "1cdc9856-34f1-4764-a12e-d7eedcf59ab1",
   "metadata": {},
   "outputs": [],
   "source": []
  }
 ],
 "metadata": {
  "kernelspec": {
   "display_name": "Python 3 (ipykernel)",
   "language": "python",
   "name": "python3"
  },
  "language_info": {
   "codemirror_mode": {
    "name": "ipython",
    "version": 3
   },
   "file_extension": ".py",
   "mimetype": "text/x-python",
   "name": "python",
   "nbconvert_exporter": "python",
   "pygments_lexer": "ipython3",
   "version": "3.9.11"
  }
 },
 "nbformat": 4,
 "nbformat_minor": 5
}
