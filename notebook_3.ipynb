{
 "cells": [
  {
   "cell_type": "markdown",
   "id": "998ccd57-42be-47ce-96e5-393e78ec65d5",
   "metadata": {},
   "source": [
    "# Math 266 Python Exercise 3. Matrices"
   ]
  },
  {
   "cell_type": "markdown",
   "id": "b2dedfb8-a4c2-466f-bc27-9b68b800f32e",
   "metadata": {
    "tags": []
   },
   "source": [
    "Instructions:  Read and execute the cells below and follow the instructions.\n",
    "\n",
    "Execute the cell below to load necessary modules"
   ]
  },
  {
   "cell_type": "code",
   "execution_count": 1,
   "id": "60ba2242-48ad-4830-a28e-96b4fc9f50ed",
   "metadata": {},
   "outputs": [
    {
     "name": "stdout",
     "output_type": "stream",
     "text": [
      "Requirement already satisfied: wget in /Users/rmartin/opt/anaconda3/lib/python3.9/site-packages (3.2)\n",
      "\u001b[33mWARNING: There was an error checking the latest version of pip.\u001b[0m\u001b[33m\n",
      "\u001b[0m"
     ]
    }
   ],
   "source": [
    "! pip install wget\n",
    "import numpy as np\n",
    "import wget\n",
    "import pandas as pd\n",
    "import matplotlib.pyplot as plt\n",
    "from numpy.linalg import norm\n",
    "import seaborn as sns\n",
    "sns.set()"
   ]
  },
  {
   "cell_type": "markdown",
   "id": "f1469a9d-8579-4426-88bf-17f518cadde5",
   "metadata": {},
   "source": [
    "## Matrix Applications\n",
    "    \n",
    "    Recall that in our last exercise we investigated the use of a matrix to store movie ratings data. In the image below we see a partail display of a ratings matrix. Note that User-0 gave movie-0 a rating of 5.  A zero indicates that the user did not rate the movie. For example User-1 did not rate Movies 1-8."
   ]
  },
  {
   "cell_type": "markdown",
   "id": "15c49e13-3611-48d4-b15f-ec948a341155",
   "metadata": {},
   "source": [
    "![ratings](https://github.com/rmartin977/Math-266/blob/main/ratings_matrix.png?raw=1)"
   ]
  },
  {
   "cell_type": "markdown",
   "id": "ec61652f-fa3c-420b-82e6-f850af8d806d",
   "metadata": {},
   "source": [
    "Execute the following cell to load the ratings matrix that we will be working with in this exercise."
   ]
  },
  {
   "cell_type": "code",
   "execution_count": 2,
   "id": "cb7145b4-751f-4fda-a5f6-55045309d1d7",
   "metadata": {
    "tags": []
   },
   "outputs": [
    {
     "name": "stdout",
     "output_type": "stream",
     "text": [
      "100% [......................................................] 1586254 / 1586254"
     ]
    }
   ],
   "source": [
    "file_1 = wget.download(\"https://github.com/rmartin977/Math-266/blob/main/ratings_matrix.npy?raw=true\")\n",
    "ratings = np.load(file_1)"
   ]
  },
  {
   "cell_type": "code",
   "execution_count": 3,
   "id": "6ba76dba-206e-4f84-9ebf-78a06ec1b18b",
   "metadata": {
    "tags": []
   },
   "outputs": [
    {
     "data": {
      "text/plain": [
       "(1682, 943)"
      ]
     },
     "execution_count": 3,
     "metadata": {},
     "output_type": "execute_result"
    }
   ],
   "source": [
    "ratings.shape  # notice there are 1682 movies and 943 users"
   ]
  },
  {
   "cell_type": "code",
   "execution_count": 4,
   "id": "c05646a6-3406-4c25-8f8c-1fa680099b97",
   "metadata": {
    "tags": []
   },
   "outputs": [
    {
     "data": {
      "text/html": [
       "<div>\n",
       "<style scoped>\n",
       "    .dataframe tbody tr th:only-of-type {\n",
       "        vertical-align: middle;\n",
       "    }\n",
       "\n",
       "    .dataframe tbody tr th {\n",
       "        vertical-align: top;\n",
       "    }\n",
       "\n",
       "    .dataframe thead th {\n",
       "        text-align: right;\n",
       "    }\n",
       "</style>\n",
       "<table border=\"1\" class=\"dataframe\">\n",
       "  <thead>\n",
       "    <tr style=\"text-align: right;\">\n",
       "      <th></th>\n",
       "      <th>0</th>\n",
       "      <th>1</th>\n",
       "      <th>2</th>\n",
       "      <th>3</th>\n",
       "      <th>4</th>\n",
       "      <th>5</th>\n",
       "      <th>6</th>\n",
       "      <th>7</th>\n",
       "      <th>8</th>\n",
       "      <th>9</th>\n",
       "      <th>10</th>\n",
       "      <th>11</th>\n",
       "      <th>12</th>\n",
       "      <th>13</th>\n",
       "      <th>14</th>\n",
       "    </tr>\n",
       "  </thead>\n",
       "  <tbody>\n",
       "    <tr>\n",
       "      <th>0</th>\n",
       "      <td>5</td>\n",
       "      <td>4</td>\n",
       "      <td>0</td>\n",
       "      <td>0</td>\n",
       "      <td>4</td>\n",
       "      <td>4</td>\n",
       "      <td>0</td>\n",
       "      <td>0</td>\n",
       "      <td>0</td>\n",
       "      <td>4</td>\n",
       "      <td>0</td>\n",
       "      <td>0</td>\n",
       "      <td>3</td>\n",
       "      <td>0</td>\n",
       "      <td>1</td>\n",
       "    </tr>\n",
       "    <tr>\n",
       "      <th>1</th>\n",
       "      <td>3</td>\n",
       "      <td>0</td>\n",
       "      <td>0</td>\n",
       "      <td>0</td>\n",
       "      <td>3</td>\n",
       "      <td>0</td>\n",
       "      <td>0</td>\n",
       "      <td>0</td>\n",
       "      <td>0</td>\n",
       "      <td>0</td>\n",
       "      <td>0</td>\n",
       "      <td>0</td>\n",
       "      <td>3</td>\n",
       "      <td>0</td>\n",
       "      <td>0</td>\n",
       "    </tr>\n",
       "    <tr>\n",
       "      <th>2</th>\n",
       "      <td>4</td>\n",
       "      <td>0</td>\n",
       "      <td>0</td>\n",
       "      <td>0</td>\n",
       "      <td>0</td>\n",
       "      <td>0</td>\n",
       "      <td>0</td>\n",
       "      <td>0</td>\n",
       "      <td>0</td>\n",
       "      <td>0</td>\n",
       "      <td>0</td>\n",
       "      <td>0</td>\n",
       "      <td>0</td>\n",
       "      <td>0</td>\n",
       "      <td>0</td>\n",
       "    </tr>\n",
       "    <tr>\n",
       "      <th>3</th>\n",
       "      <td>3</td>\n",
       "      <td>0</td>\n",
       "      <td>0</td>\n",
       "      <td>0</td>\n",
       "      <td>0</td>\n",
       "      <td>0</td>\n",
       "      <td>5</td>\n",
       "      <td>0</td>\n",
       "      <td>0</td>\n",
       "      <td>4</td>\n",
       "      <td>0</td>\n",
       "      <td>5</td>\n",
       "      <td>5</td>\n",
       "      <td>0</td>\n",
       "      <td>0</td>\n",
       "    </tr>\n",
       "    <tr>\n",
       "      <th>4</th>\n",
       "      <td>3</td>\n",
       "      <td>0</td>\n",
       "      <td>0</td>\n",
       "      <td>0</td>\n",
       "      <td>0</td>\n",
       "      <td>0</td>\n",
       "      <td>0</td>\n",
       "      <td>0</td>\n",
       "      <td>0</td>\n",
       "      <td>0</td>\n",
       "      <td>0</td>\n",
       "      <td>0</td>\n",
       "      <td>1</td>\n",
       "      <td>0</td>\n",
       "      <td>0</td>\n",
       "    </tr>\n",
       "  </tbody>\n",
       "</table>\n",
       "</div>"
      ],
      "text/plain": [
       "   0   1   2   3   4   5   6   7   8   9   10  11  12  13  14\n",
       "0   5   4   0   0   4   4   0   0   0   4   0   0   3   0   1\n",
       "1   3   0   0   0   3   0   0   0   0   0   0   0   3   0   0\n",
       "2   4   0   0   0   0   0   0   0   0   0   0   0   0   0   0\n",
       "3   3   0   0   0   0   0   5   0   0   4   0   5   5   0   0\n",
       "4   3   0   0   0   0   0   0   0   0   0   0   0   1   0   0"
      ]
     },
     "execution_count": 4,
     "metadata": {},
     "output_type": "execute_result"
    }
   ],
   "source": [
    "rdf = pd.DataFrame(ratings) # below we get a view the first 5 rows and 15 columns of our ratings matrix. It is not necessary to understand the code that generates  this output.\n",
    "rdf.iloc[:5,:15] # User ID-12 gave Movie ID-4 1 star."
   ]
  },
  {
   "cell_type": "code",
   "execution_count": 5,
   "id": "1253d603-0aad-4378-9a5c-a831ba88ebd9",
   "metadata": {},
   "outputs": [
    {
     "name": "stdout",
     "output_type": "stream",
     "text": [
      "100% [........................................................] 140889 / 140889"
     ]
    }
   ],
   "source": [
    "file_2 = wget.download(\"https://github.com/rmartin977/Math-266/blob/main/dictionary.npy?raw=true\")"
   ]
  },
  {
   "cell_type": "code",
   "execution_count": 6,
   "id": "11b7e7a4-47f3-47aa-8e46-86850a2d3f1b",
   "metadata": {
    "tags": []
   },
   "outputs": [],
   "source": [
    "titles = np.load(file_2,allow_pickle=True).item()"
   ]
  },
  {
   "cell_type": "code",
   "execution_count": 7,
   "id": "8c25eedd-b1e4-48eb-b530-c13af84bed99",
   "metadata": {
    "tags": []
   },
   "outputs": [
    {
     "data": {
      "text/plain": [
       "'Toy Story (1995)'"
      ]
     },
     "execution_count": 7,
     "metadata": {},
     "output_type": "execute_result"
    }
   ],
   "source": [
    "titles[0]# Note the ID-0 corresponds to \"Toy Story\""
   ]
  },
  {
   "cell_type": "markdown",
   "id": "80f7551a-828a-42a6-815c-9b18ca9ade51",
   "metadata": {
    "tags": []
   },
   "source": [
    "How to find a rating.  To see what rating with a given user gave a given movie just enter:  ratings(movie_id,user_id)"
   ]
  },
  {
   "cell_type": "code",
   "execution_count": 8,
   "id": "bc9e19cb-f443-44e0-8f23-9e4e3fb4ca34",
   "metadata": {},
   "outputs": [
    {
     "data": {
      "text/plain": [
       "5"
      ]
     },
     "execution_count": 8,
     "metadata": {},
     "output_type": "execute_result"
    }
   ],
   "source": [
    "ratings[0,22] # Note that user #22 gave 'Toy Story' 5 stars."
   ]
  },
  {
   "cell_type": "markdown",
   "id": "e074fb9a-643d-4dd0-8e8a-1a4589ba6690",
   "metadata": {},
   "source": [
    "## The cell below will compute the total score for each movie and store the result in the array \"scores\". Next the top five scores are determined and the corresponding movies are printed out.\n",
    "\n",
    "## Modify the cell so the top 10 movies are printed out. This will require just one change below."
   ]
  },
  {
   "cell_type": "code",
   "execution_count": 9,
   "id": "a7ed5d70-ee0e-4a55-81c5-832f4e163995",
   "metadata": {},
   "outputs": [
    {
     "name": "stdout",
     "output_type": "stream",
     "text": [
      "1 Star Wars (1977)\n",
      "2 Fargo (1996)\n",
      "3 Return of the Jedi (1983)\n",
      "4 Contact (1997)\n",
      "5 Raiders of the Lost Ark (1981)\n"
     ]
    }
   ],
   "source": [
    "scores = ratings.sum(axis=1)\n",
    "max_5 = np.argsort(scores)[-5:][::-1]\n",
    "for i,id in enumerate(max_5):\n",
    "    print(i+1,titles[id])"
   ]
  },
  {
   "cell_type": "markdown",
   "id": "c9094c5a-8154-4b80-8ba8-954dc2f68f99",
   "metadata": {},
   "source": [
    "---\n",
    "---\n",
    "# Movie Recommender\n",
    "---\n",
    "---\n",
    "In this part of the exercise we will implement a simple movie recommender system using\n",
    "cosine similarity. Recall the cosine of the angle between two vectors is given by:"
   ]
  },
  {
   "cell_type": "markdown",
   "id": "ac8b7c69-cbfd-42f8-8b5d-2fc5ec00652c",
   "metadata": {},
   "source": [
    "$$cos(\\theta) =\\frac{\\overrightarrow{a}\\cdot\\overrightarrow{b}}{\\overrightarrow{||a||}\\;\\overrightarrow{||b||}}$$"
   ]
  },
  {
   "cell_type": "markdown",
   "id": "98a9f762-c179-4f43-823a-ad83e1dfca14",
   "metadata": {},
   "source": [
    "If two vectors are normalized (divide the vector by its magnitude) then the cosine similarity between the two vectors\n",
    "is computed by simply computing the dot product of the vectors.  This dot product returns\n",
    "a scalar that will give us a measure of how similar the two vectors are. We thus can determine\n",
    "how similar two movies are by forming the dot product of the normed feature vectors for each \n",
    "movie. The feature vectors are the rows of the ratings_matrix.\n"
   ]
  },
  {
   "cell_type": "markdown",
   "id": "9a98dc48-1cdd-4e9e-9e34-29f1a90156ec",
   "metadata": {},
   "source": [
    "Let us compare the movies Toy_Story and Full_Metal_Jacket.  These movies should *not* be similar.\n"
   ]
  },
  {
   "cell_type": "code",
   "execution_count": 10,
   "id": "5c1075f2-0cea-4221-8f9e-fb9700f2f79f",
   "metadata": {},
   "outputs": [],
   "source": [
    "# first normalize the vector for each movie.  Note Full Metal Jacke has movie id #187\n",
    "\n",
    "toy_story_norm = ratings[0]/norm(ratings[0])\n",
    "Full_Metal_Jacket_norm = ratings[187]/norm(ratings[187])\n"
   ]
  },
  {
   "cell_type": "code",
   "execution_count": 11,
   "id": "85add7e6-890c-4b33-b413-11a4a501f0c8",
   "metadata": {},
   "outputs": [
    {
     "data": {
      "text/plain": [
       "1.0"
      ]
     },
     "execution_count": 11,
     "metadata": {},
     "output_type": "execute_result"
    }
   ],
   "source": [
    "norm(toy_story_norm) # confirm the vector is normalized"
   ]
  },
  {
   "cell_type": "code",
   "execution_count": 12,
   "id": "13f2bb7d-7470-4b7b-b94b-1a29a38ef50d",
   "metadata": {},
   "outputs": [
    {
     "name": "stdout",
     "output_type": "stream",
     "text": [
      "The similarity measure between Toy Story and Full Metal Jacket is 0.41731579949389364\n"
     ]
    }
   ],
   "source": [
    "# now compute the similarity between the two movies and display the result.\n",
    "\n",
    "similarity_1 = np.dot(toy_story_norm,Full_Metal_Jacket_norm)\n",
    "\n",
    "print(f'The similarity measure between Toy Story and Full Metal Jacket is {similarity_1}')"
   ]
  },
  {
   "cell_type": "code",
   "execution_count": 13,
   "id": "2d584f90-c57f-4a10-98a1-7c89e8fa2957",
   "metadata": {},
   "outputs": [
    {
     "name": "stdout",
     "output_type": "stream",
     "text": [
      "\n",
      "The similarity measure between Star Wars and Return of the Jedi is 0.8844757466059625\n"
     ]
    }
   ],
   "source": [
    "#  Now we compare the movies Star Wars #49  and Return of the Jedi #180.  These movies should be similar.\n",
    "\n",
    "Star_Wars_norm = ratings[49]/norm(ratings[49])\n",
    "Return_of_the_Jedi_norm = ratings[180]/norm(ratings[180])\n",
    "\n",
    "# now compute the similarity between the two movies and display the result.\n",
    "similarity_2 = np.dot(Star_Wars_norm,Return_of_the_Jedi_norm)\n",
    "\n",
    "print(f'\\nThe similarity measure between Star Wars and Return of the Jedi is {similarity_2}')"
   ]
  },
  {
   "cell_type": "markdown",
   "id": "11401467-0b1a-44f9-be34-bd2f7655528f",
   "metadata": {},
   "source": [
    "## These results show that cosine similarity works.  Cool!"
   ]
  },
  {
   "cell_type": "markdown",
   "id": "a8dd9686-d374-4e8c-b3d6-8a3fc57551f4",
   "metadata": {},
   "source": [
    "Now we write a python function called top_five that will take as an input the id# \n",
    "for a movie that a user likes and return a list of the 5 movies we recommend to the user.\n",
    "These will be the five movies most \"similar\" to the input."
   ]
  },
  {
   "cell_type": "markdown",
   "id": "ce4c04d7-c0e7-4b2b-85e8-69436d3f63da",
   "metadata": {},
   "source": [
    "For example when the function is executed with with Titanic #312 as input the output\n",
    "generated is below. Of course the first movie in the list should be the movie itself.\n",
    "\n",
    "1. Titanic (1997)\n",
    "2. Good Will Hunting (1997)\n",
    "3. Contact (1997)\n",
    "4. Apt Pupil (1998)\n",
    "5. Tomorrow Never Dies (1997)"
   ]
  },
  {
   "cell_type": "markdown",
   "id": "cc982941-66d1-4c5b-afd2-ac21c5dbafd1",
   "metadata": {},
   "source": [
    "First a little bit about python functions. A function is simply a block of code that runs when you call it.  Below is an example of a simple function that takes a input number x and returns the square of the input. Note the function definition begins with keyword \"def\" then the name of the function and the list of inputs.\n",
    "\n",
    "```Python\n",
    "def square(x):\n",
    "    return x**2\n",
    "```\n",
    "\n",
    "To \"call\" the function you simple type:\n",
    "\n",
    "square(3)\n",
    "\n",
    "and 9 will be returned.  For practice enter the above function in a code cell below.  Then in a new cell call the function with any input."
   ]
  },
  {
   "cell_type": "code",
   "execution_count": 14,
   "id": "18d2f114-0af9-449c-ba7d-94bc92fe0ba6",
   "metadata": {},
   "outputs": [],
   "source": [
    "# Enter you code here\n",
    "\n"
   ]
  },
  {
   "cell_type": "code",
   "execution_count": null,
   "id": "84595847-d5ef-4210-ae79-6e4c07531878",
   "metadata": {},
   "outputs": [],
   "source": []
  },
  {
   "cell_type": "markdown",
   "id": "d3df5f0a-1523-478d-bc09-beebec429984",
   "metadata": {},
   "source": [
    "The cell below contains the function defintion for top_five.  You do not need to understand all the code at this time to complete this assignment."
   ]
  },
  {
   "cell_type": "code",
   "execution_count": 15,
   "id": "94399956-0d44-4bd4-97d0-ba8e614329db",
   "metadata": {},
   "outputs": [],
   "source": [
    "def top_five(m,i):\n",
    "\n",
    "    '''\n",
    "    This program will determine the 5 rows in matrix m\n",
    "    that are most similar to the target row i.\n",
    "\n",
    "    Cosine similartiy is used in determining similarity\n",
    "    normalize the rows of matrix m\n",
    " \n",
    " '''\n",
    "    # this line will normalize all the rows in the matrix\n",
    "\n",
    "    m = m/norm(m,axis=1).reshape(-1,1) \n",
    "    \n",
    "    # this line will compute the similarity between the target movie and all the other movies\n",
    "    # the result is stored in the array similarities\n",
    "\n",
    "    similarities = np.dot(m,m[i]) \n",
    "    \n",
    "    # Next we sort the indices and print out the top five.\n",
    "    \n",
    "    \n",
    "    l =np.argsort(similarities)[::-1][:5]\n",
    "    for i,k in enumerate(l):\n",
    "        print(i+1,titles[k])"
   ]
  },
  {
   "cell_type": "markdown",
   "id": "cfeb124b-23dd-4c74-b749-e548651f718b",
   "metadata": {},
   "source": [
    "Now let us test our recommender with the movie \"Star Wars\" id #49, The results look quite reasonable."
   ]
  },
  {
   "cell_type": "code",
   "execution_count": 16,
   "id": "5191c164-7251-4276-a699-4a9fc3bdac18",
   "metadata": {},
   "outputs": [
    {
     "name": "stdout",
     "output_type": "stream",
     "text": [
      "1 Blade Runner (1982)\n",
      "2 Raiders of the Lost Ark (1981)\n",
      "3 Alien (1979)\n",
      "4 Empire Strikes Back, The (1980)\n",
      "5 Aliens (1986)\n"
     ]
    }
   ],
   "source": [
    "top_five(ratings,88)"
   ]
  },
  {
   "cell_type": "markdown",
   "id": "dacb1a0b-7e6b-459a-a969-52205d698aaf",
   "metadata": {},
   "source": [
    "Hope you agree that all the movies above are science fiction and similar to \"Star Wars\".  Futher hope you are amazed as I am that we can use math to determine how similar movies are!"
   ]
  },
  {
   "cell_type": "markdown",
   "id": "28fe5b43-c145-4baa-9423-f0a3ce04db24",
   "metadata": {},
   "source": [
    "## Your turn...\n",
    "Answer the following 5 questions.  Go to gradescope python exericse 2. and enter your answers.\n",
    "\n",
    "1. What rating did user 25 give to the movie \"Star Wars\"?\n",
    "2. What is the title of the movie with ID-143?\n",
    "3. What movie is most similar to \"Blade Runner\" ID-88?\n",
    "4. Determine the similarity score between \"Top Gun\" ID-160 and \"On Golden Pond\" ID-161.  Express your answer rounded to 2 decimal points.  Should this score be low?\n",
    "5. Run top_five on the movie \"Room with A View\" ID-212. What is the title of the 5th movie returned on the list?\n",
    "6. What movie comes in 6th place with the top overall score. Note \"Raiders of the Lost Arc\" comes in fifth. See cell[9] above."
   ]
  },
  {
   "cell_type": "markdown",
   "id": "ee33b3f1-629b-4494-99b9-d2e0783d7489",
   "metadata": {},
   "source": [
    "Below is a handy function that helps you find the ID for a given movie.  Just enter the title or a word in the title and an Id will be returned if a match is found.  For example when we use search word \"Born\" the movie Id 52 is returned. When we check we see that is the ID for \"Natural Born Killers\"."
   ]
  },
  {
   "cell_type": "code",
   "execution_count": 17,
   "id": "e0c3897d-3896-41cf-be97-02e10c2252c5",
   "metadata": {},
   "outputs": [],
   "source": [
    "# function to return Id for a given movie\n",
    "def get_Id(title):\n",
    "    for Id, val in titles.items():\n",
    "        if title in val:\n",
    "            return Id\n",
    "    return \"movie doesn't exist\""
   ]
  },
  {
   "cell_type": "code",
   "execution_count": 18,
   "id": "7dc9f2ba-841f-47c1-b4e2-0a4014c49081",
   "metadata": {},
   "outputs": [
    {
     "data": {
      "text/plain": [
       "52"
      ]
     },
     "execution_count": 18,
     "metadata": {},
     "output_type": "execute_result"
    }
   ],
   "source": [
    "get_Id(\"Born\")"
   ]
  },
  {
   "cell_type": "code",
   "execution_count": 19,
   "id": "0f7fcfe0-9d83-4012-9e1d-bf3846c0986e",
   "metadata": {},
   "outputs": [
    {
     "data": {
      "text/plain": [
       "'Natural Born Killers (1994)'"
      ]
     },
     "execution_count": 19,
     "metadata": {},
     "output_type": "execute_result"
    }
   ],
   "source": [
    "titles[52]"
   ]
  }
 ],
 "metadata": {
  "kernelspec": {
   "display_name": "Python 3 (ipykernel)",
   "language": "python",
   "name": "python3"
  },
  "language_info": {
   "codemirror_mode": {
    "name": "ipython",
    "version": 3
   },
   "file_extension": ".py",
   "mimetype": "text/x-python",
   "name": "python",
   "nbconvert_exporter": "python",
   "pygments_lexer": "ipython3",
   "version": "3.9.11"
  }
 },
 "nbformat": 4,
 "nbformat_minor": 5
}
