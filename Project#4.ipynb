{
 "cells": [
  {
   "cell_type": "markdown",
   "id": "1e33adb8-6b4f-4afe-984f-17605e1a1405",
   "metadata": {},
   "source": [
    "# Math 266 - Project #4 "
   ]
  },
  {
   "cell_type": "markdown",
   "id": "2b33e9fd-2a39-4111-85e9-6f28d00e830c",
   "metadata": {},
   "source": [
    "Insert Your full name and student ID in this cell.\n",
    "\n",
    "Name:\n",
    "\n",
    "ID:\n",
    "\n"
   ]
  },
  {
   "cell_type": "markdown",
   "id": "3319ba90-1d44-44bc-b886-d389bf2f4a04",
   "metadata": {
    "tags": []
   },
   "source": [
    "## Mnist data set"
   ]
  },
  {
   "cell_type": "markdown",
   "id": "5a710ebe-79e4-4f39-b7a8-9fc71738779e",
   "metadata": {},
   "source": [
    "The purpose of  this project is to expand on what we learned about similarity measure in the previous project.  However now we will be comparing images of hand written digits rather than movies.  We will be using the mnist dataset.  This project also serves to prepare us for an more sophisticated image recognition project coming up.\n",
    "\n",
    "The Mnist dataset consist of 60,000 small square 28×28 pixel grayscale images of handwritten single digits between 0 and 9. We will work with this data set in this project. For more information on the data set see this link below.\n",
    "\n",
    "https://en.wikipedia.org/wiki/MNIST_database"
   ]
  },
  {
   "cell_type": "markdown",
   "id": "c99b474d-3e2e-4af0-a76a-15175729144d",
   "metadata": {},
   "source": [
    "Execute the cell below to load necessary libraries."
   ]
  },
  {
   "cell_type": "code",
   "execution_count": 75,
   "id": "e84025dd-52b5-4338-84f1-7db0d93e5992",
   "metadata": {
    "tags": []
   },
   "outputs": [
    {
     "name": "stdout",
     "output_type": "stream",
     "text": [
      "Requirement already satisfied: wget in /Users/rmartin/opt/anaconda3/lib/python3.9/site-packages (3.2)\n",
      "\u001b[33mWARNING: There was an error checking the latest version of pip.\u001b[0m\u001b[33m\n",
      "\u001b[0m"
     ]
    }
   ],
   "source": [
    "! pip install wget\n",
    "import numpy as np\n",
    "import numpy.linalg as la\n",
    "import wget\n",
    "import pandas as pd\n",
    "import matplotlib.pyplot as plt\n",
    "from numpy.linalg import norm\n"
   ]
  },
  {
   "cell_type": "markdown",
   "id": "b6815527-e46e-4f79-9525-d6566faf2d7d",
   "metadata": {
    "tags": []
   },
   "source": [
    "## Below we see a handwritten image of the digit 8 stored in a 28X28 matrix."
   ]
  },
  {
   "cell_type": "markdown",
   "id": "5de7baf2-7a35-44ac-b712-e10fa189340d",
   "metadata": {
    "tags": []
   },
   "source": [
    "Images can be represented by matrices.\n",
    "\n",
    "![digit](https://github.com/rmartin977/Math-266/blob/main/digit.gif?raw=true)\n",
    "(Source: [Adam Geitgey\n",
    "](https://medium.com/@ageitgey/machine-learning-is-fun-part-3-deep-learning-and-convolutional-neural-networks-f40359318721))"
   ]
  },
  {
   "cell_type": "markdown",
   "id": "e8026ad6-ad40-4f8e-bbd2-eb0c45b1429d",
   "metadata": {
    "tags": []
   },
   "source": [
    "# Execute the cells below to load in the data set."
   ]
  },
  {
   "cell_type": "code",
   "execution_count": 76,
   "id": "b57a6297-75c7-4590-b64f-4155d3dc4110",
   "metadata": {
    "tags": []
   },
   "outputs": [],
   "source": [
    "training_df = pd.read_csv('https://github.com/rmartin977/Math-266/blob/main/mnist_train.csv.gz?raw=true',header = None,compression='gzip')\n",
    "training_data = training_df.values"
   ]
  },
  {
   "cell_type": "code",
   "execution_count": 77,
   "id": "8858c077-73d3-458c-971e-fa1ea10ffcd9",
   "metadata": {},
   "outputs": [],
   "source": [
    "# unpack the training images and symbols\n",
    "digits , labels = (training_data[:,1:],training_data[:,0])\n"
   ]
  },
  {
   "cell_type": "markdown",
   "id": "4c3f1c68-1e26-4e4f-a30a-a43feb3bf8a9",
   "metadata": {},
   "source": [
    "Above we have created two matrices.  The matrix called digits is size 60,000 x 784.  Each row stores a single 28x28 image of a digit that has been \"unrolled\" to a size 784 row vector. The second matrix contains the labels or digit values for each image.  \n"
   ]
  },
  {
   "cell_type": "code",
   "execution_count": 78,
   "id": "3949b13f-8f3b-4337-99bd-a0b28bd25fde",
   "metadata": {},
   "outputs": [
    {
     "name": "stdout",
     "output_type": "stream",
     "text": [
      "The digits matrix is size (60000, 784)\n",
      "The labels matrix is size (60000,)\n"
     ]
    }
   ],
   "source": [
    "# execute this cell to see the size of each matrix\n",
    "print(f\"The digits matrix is size {digits.shape}\")\n",
    "print(f\"The labels matrix is size {labels.shape}\")"
   ]
  },
  {
   "cell_type": "markdown",
   "id": "44ae3910-2e2a-4461-bd5a-42853ce24990",
   "metadata": {},
   "source": [
    "---"
   ]
  },
  {
   "cell_type": "markdown",
   "id": "7d37c8b4-3361-4a59-98ac-41834c30b2ec",
   "metadata": {},
   "source": [
    "To display the image stored in row 0 we need to first roll the row vector back up into a 28x28 image with the command:\n",
    "\n",
    "``` python\n",
    "digits[0].reshape(28,28)\n",
    "```\n",
    "\n",
    "Execute the cell below to display the image for digits[0]."
   ]
  },
  {
   "cell_type": "code",
   "execution_count": 79,
   "id": "dc4bf6b6-f1ce-433d-bf39-8979d8be2166",
   "metadata": {},
   "outputs": [
    {
     "data": {
      "image/png": "[encoded data removed]",
      "text/plain": [
       "<Figure size 432x288 with 1 Axes>"
      ]
     },
     "metadata": {},
     "output_type": "display_data"
    }
   ],
   "source": [
    "img= digits[0].reshape(28,28)\n",
    "plt.imshow(img,cmap='gray')\n",
    "plt.grid(False)"
   ]
  },
  {
   "cell_type": "markdown",
   "id": "65b350c2-876b-4c82-a020-a7dd4e2df3b2",
   "metadata": {},
   "source": [
    "Now let us look into array labels to see what label is assigned to digits[0] by looking at labels[0].  It will show the digit \"5\". Execute cell below to see this."
   ]
  },
  {
   "cell_type": "code",
   "execution_count": 80,
   "id": "6b54c566-f23b-45c1-9f68-a3f600744689",
   "metadata": {},
   "outputs": [
    {
     "data": {
      "text/plain": [
       "5"
      ]
     },
     "execution_count": 80,
     "metadata": {},
     "output_type": "execute_result"
    }
   ],
   "source": [
    "labels[0]"
   ]
  },
  {
   "cell_type": "markdown",
   "id": "b57c4fed-3f3b-46f4-8dd0-2efa74bb5225",
   "metadata": {},
   "source": [
    "Now change the code above to display the image stored in digits[1].  Compare to what labels[1] is. Experiment!"
   ]
  },
  {
   "cell_type": "markdown",
   "id": "db703b65-697f-4ed1-bf43-22e1d2ca3355",
   "metadata": {},
   "source": [
    "We are going to compare digit images to the image for digit 5 stored at location digits[0].  So we will normalize the vector for this digit and call it five_norm."
   ]
  },
  {
   "cell_type": "code",
   "execution_count": 81,
   "id": "3da21cc1-a984-42a3-ab84-a963a5d30f98",
   "metadata": {},
   "outputs": [],
   "source": [
    "five_norm = digits[0]/la.norm(digits[0])"
   ]
  },
  {
   "cell_type": "markdown",
   "id": "f6543fc4-0fa6-4e66-b2de-5bdecc54df2f",
   "metadata": {},
   "source": [
    "In the cell below enter and execute the code to  confirm that the norm of five_norm is \"1\" using the command:\n",
    "```python \n",
    "la.norm\n",
    "```"
   ]
  },
  {
   "cell_type": "code",
   "execution_count": null,
   "id": "1db468f2-4839-4153-b42b-cebe0ccb9049",
   "metadata": {},
   "outputs": [],
   "source": []
  },
  {
   "cell_type": "markdown",
   "id": "dfb97ba8-9c59-440e-983f-04a7e40c6cb1",
   "metadata": {},
   "source": [
    "To view multiple entries in an array use \"fancy indexing\".  For example if you want to look at locations 1,3,6,7 simultaneously in the labels array just enter:\n",
    "``` python\n",
    "labels[[1,3,6,7]]\n",
    "```\n",
    "Execute the cell below for a demo. You might need to use this functionality later.\n"
   ]
  },
  {
   "cell_type": "code",
   "execution_count": 74,
   "id": "79ec3233-cf26-4e24-92e3-d0654b4a209a",
   "metadata": {},
   "outputs": [
    {
     "data": {
      "text/plain": [
       "array([0, 1, 1, 3])"
      ]
     },
     "execution_count": 74,
     "metadata": {},
     "output_type": "execute_result"
    }
   ],
   "source": [
    "labels[[1,3,6,7]]"
   ]
  },
  {
   "cell_type": "markdown",
   "id": "a21fe688-7a36-4c50-a515-3433512838fd",
   "metadata": {},
   "source": [
    "## Your Turn..."
   ]
  },
  {
   "cell_type": "markdown",
   "id": "e4b4d71f-197f-483a-9eb2-bded476ec99a",
   "metadata": {},
   "source": [
    "Your task is to use what your learned in the previous project to determine the 10 digits in the digits matrix that are most similar to digit[0].  Recall we have already normalized digit five and call it \"five_norm\".  So you need to compute the similarity between this digit and the 60,000 digits it the digits matrix. Use cosine similarity.  Of course the first in the list will be digits[0].  "
   ]
  },
  {
   "cell_type": "markdown",
   "id": "cc09b698-2e40-40e5-9f58-c22d8c52488c",
   "metadata": {
    "tags": []
   },
   "source": [
    "# Questions\n",
    "\n",
    "1. The image for what digit is stored in location digits[20]?\n",
    "2. What 10 images are most similar to the image of \"5\" stored at location digits[0]?  You need to give a list of 10 row numbers.  \n",
    " a few hints:  The first number in the list should be 0. About 60% of the images should be images of the digit \"5\".\n",
    " \n",
    "3. Save your notebook as a pdf and upload to gradescope.\n",
    "\n"
   ]
  },
  {
   "cell_type": "code",
   "execution_count": 82,
   "id": "76c8fde5-6366-48d8-9d3b-25c308d60f12",
   "metadata": {},
   "outputs": [
    {
     "data": {
      "text/plain": [
       "4"
      ]
     },
     "execution_count": 82,
     "metadata": {},
     "output_type": "execute_result"
    }
   ],
   "source": [
    "labels[20]"
   ]
  },
  {
   "cell_type": "code",
   "execution_count": null,
   "id": "a1c4cdd0-2c7a-497a-ad9b-3e6eb6163e7d",
   "metadata": {},
   "outputs": [],
   "source": []
  }
 ],
 "metadata": {
  "kernelspec": {
   "display_name": "Python 3 (ipykernel)",
   "language": "python",
   "name": "python3"
  },
  "language_info": {
   "codemirror_mode": {
    "name": "ipython",
    "version": 3
   },
   "file_extension": ".py",
   "mimetype": "text/x-python",
   "name": "python",
   "nbconvert_exporter": "python",
   "pygments_lexer": "ipython3",
   "version": "3.9.11"
  }
 },
 "nbformat": 4,
 "nbformat_minor": 5
}
