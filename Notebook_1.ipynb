{
  "nbformat": 4,
  "nbformat_minor": 0,
  "metadata": {
    "colab": {
      "name": "Notebook_1",
      "private_outputs": true,
      "provenance": [],
      "collapsed_sections": [],
      "include_colab_link": true
    },
    "kernelspec": {
      "display_name": "Python 3",
      "name": "python3"
    }
  },
  "cells": [
    {
      "cell_type": "markdown",
      "metadata": {
        "id": "view-in-github",
        "colab_type": "text"
      },
      "source": [
        "<a href=\"https://colab.research.google.com/github/rmartin977/Math-266/blob/main/Notebook_1.ipynb\" target=\"_parent\"><img src=\"https://colab.research.google.com/assets/colab-badge.svg\" alt=\"Open In Colab\"/></a>"
      ]
    },
    {
      "cell_type": "markdown",
      "metadata": {
        "id": "l0gnjlpXI0V9"
      },
      "source": [
        "# Math 266\n",
        "\n",
        "## Congratulations on finding and successfully launching this colab notebook. "
      ]
    },
    {
      "cell_type": "markdown",
      "metadata": {
        "id": "XU367i2yteAj"
      },
      "source": [
        "Colaboratory, or “Colab” for short, is a product from Google Research. Colab allows anybody to write and execute arbitrary python code through the browser, and is especially well suited to machine learning, data analysis and education. More technically, Colab is a hosted Jupyter notebook service that requires no setup to use, while providing free access to computing resources including GPUs."
      ]
    },
    {
      "cell_type": "markdown",
      "metadata": {
        "id": "JyG45Qk3qQLS"
      },
      "source": [
        "# Cells\n",
        "A notebook is a list of cells. There are two types of cells.  Code cells for executable python code and text cells for explanatory text. You hover your mouse over and click a cell to select it."
      ]
    },
    {
      "cell_type": "markdown",
      "metadata": {
        "id": "h_lhFJNVfP-4"
      },
      "source": [
        "To execute a cell you can either click the arrow to the left (that appears when you hover over the cell) or type \"shift enter\" after you have selected the cell."
      ]
    },
    {
      "cell_type": "markdown",
      "metadata": {
        "id": "RBjKWPWWf0lB"
      },
      "source": [
        "Try it.  Select and execute the cell below.  Confirm the that message \"Hello World\" prints out."
      ]
    },
    {
      "cell_type": "code",
      "metadata": {
        "id": "VP6gToS4XQDP"
      },
      "source": [
        "print(\"Hello World\")"
      ],
      "execution_count": null,
      "outputs": []
    },
    {
      "cell_type": "markdown",
      "metadata": {
        "id": "hN8W1iG3uyEI"
      },
      "source": [
        "To insert a code or text cell in the current location press either the +Code or +Text in the menue near the top of this page.  Go ahead and create a code cell. Once created type 2+3 in the cell and type shift enter.  You should see the result displayed under the cell. If you hover your mouse just below this line you should see a +Code and +Text.  You can click in the +Code to insert a code cell at this location."
      ]
    },
    {
      "cell_type": "markdown",
      "metadata": {
        "id": "hU-En5pVvsWt"
      },
      "source": [
        "# Finally to see the secret message execute the code cell below."
      ]
    },
    {
      "cell_type": "code",
      "metadata": {
        "id": "QqW-2Y22v5AM"
      },
      "source": [
        "import base64\n",
        "base64.b64decode(b'VGhlIHNlY3JldCBtZXNzYWdlIGlzICdHTyBOQVRJT05BTFMn').decode()"
      ],
      "execution_count": null,
      "outputs": []
    },
    {
      "cell_type": "markdown",
      "metadata": {
        "id": "MGvOiqeC41uN"
      },
      "source": [
        "To save a copy of this notebook in your Google drive, select \"Save a copy in Drive\" from the file menu above."
      ]
    },
    {
      "cell_type": "markdown",
      "metadata": {
        "id": "N0D9KRIqw-96"
      },
      "source": [
        "We will be using the python programming language for some course assignments.  No previous experience with python is assumed.  However you will need to watch the following tutorial to get some basics of python programming and linear algebra. Please watch the video before next class.   [python tutorial for linear algebra](https://www.youtube.com/watch?v=SuRBL527Vig)"
      ]
    },
    {
      "cell_type": "code",
      "metadata": {
        "id": "q1DkFN4N1sG4"
      },
      "source": [
        ""
      ],
      "execution_count": null,
      "outputs": []
    }
  ]
}